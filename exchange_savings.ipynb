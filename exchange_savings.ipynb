{
 "cells": [
  {
   "cell_type": "code",
   "execution_count": 32,
   "metadata": {},
   "outputs": [
    {
     "data": {
      "text/plain": [
       "<Response [200]>"
      ]
     },
     "execution_count": 32,
     "metadata": {},
     "output_type": "execute_result"
    }
   ],
   "source": [
    "import pandas as pd\n",
    "import requests\n",
    "import json\n",
    "import numpy as np\n",
    "import datetime\n",
    "\n",
    "import matplotlib.pyplot as plt\n",
    "import plotly.express as px\n",
    "\n",
    "end_date = '23.07.2025'\n",
    "end_date_to_date = datetime.datetime.strptime(end_date, '%d.%m.%Y') \n",
    "\n",
    "response = requests.get(f'https://api.privatbank.ua/p24api/exchange_rates?json&date={end_date}') \n",
    "response "
   ]
  },
  {
   "cell_type": "code",
   "execution_count": 33,
   "metadata": {},
   "outputs": [
    {
     "data": {
      "text/plain": [
       "[{'baseCurrency': 'UAH',\n",
       "  'currency': 'AUD',\n",
       "  'saleRateNB': 27.2268,\n",
       "  'purchaseRateNB': 27.2268},\n",
       " {'baseCurrency': 'UAH',\n",
       "  'currency': 'AZN',\n",
       "  'saleRateNB': 24.5635,\n",
       "  'purchaseRateNB': 24.5635},\n",
       " {'baseCurrency': 'UAH',\n",
       "  'currency': 'BYN',\n",
       "  'saleRateNB': 15.0766,\n",
       "  'purchaseRateNB': 15.0766},\n",
       " {'baseCurrency': 'UAH',\n",
       "  'currency': 'CAD',\n",
       "  'saleRateNB': 30.5391,\n",
       "  'purchaseRateNB': 30.5391},\n",
       " {'baseCurrency': 'UAH',\n",
       "  'currency': 'CHF',\n",
       "  'saleRateNB': 52.4064,\n",
       "  'purchaseRateNB': 52.4064,\n",
       "  'saleRate': 53.45,\n",
       "  'purchaseRate': 52.35},\n",
       " {'baseCurrency': 'UAH',\n",
       "  'currency': 'CNY',\n",
       "  'saleRateNB': 5.8209,\n",
       "  'purchaseRateNB': 5.8209},\n",
       " {'baseCurrency': 'UAH',\n",
       "  'currency': 'CZK',\n",
       "  'saleRateNB': 1.9846,\n",
       "  'purchaseRateNB': 1.9846,\n",
       "  'saleRate': 2.4,\n",
       "  'purchaseRate': 1.95},\n",
       " {'baseCurrency': 'UAH',\n",
       "  'currency': 'DKK',\n",
       "  'saleRateNB': 6.546,\n",
       "  'purchaseRateNB': 6.546},\n",
       " {'baseCurrency': 'UAH',\n",
       "  'currency': 'EUR',\n",
       "  'saleRateNB': 48.8654,\n",
       "  'purchaseRateNB': 48.8654,\n",
       "  'saleRate': 49.4,\n",
       "  'purchaseRate': 48.4},\n",
       " {'baseCurrency': 'UAH',\n",
       "  'currency': 'GBP',\n",
       "  'saleRateNB': 56.3205,\n",
       "  'purchaseRateNB': 56.3205,\n",
       "  'saleRate': 56.65,\n",
       "  'purchaseRate': 55.85},\n",
       " {'baseCurrency': 'UAH',\n",
       "  'currency': 'GEL',\n",
       "  'saleRateNB': 15.4201,\n",
       "  'purchaseRateNB': 15.4201},\n",
       " {'baseCurrency': 'UAH',\n",
       "  'currency': 'HUF',\n",
       "  'saleRateNB': 0.122371,\n",
       "  'purchaseRateNB': 0.122371},\n",
       " {'baseCurrency': 'UAH',\n",
       "  'currency': 'ILS',\n",
       "  'saleRateNB': 12.4606,\n",
       "  'purchaseRateNB': 12.4606},\n",
       " {'baseCurrency': 'UAH',\n",
       "  'currency': 'JPY',\n",
       "  'saleRateNB': 0.28369,\n",
       "  'purchaseRateNB': 0.28369},\n",
       " {'baseCurrency': 'UAH',\n",
       "  'currency': 'KZT',\n",
       "  'saleRateNB': 0.07813,\n",
       "  'purchaseRateNB': 0.07813},\n",
       " {'baseCurrency': 'UAH',\n",
       "  'currency': 'MDL',\n",
       "  'saleRateNB': 2.4779,\n",
       "  'purchaseRateNB': 2.4779},\n",
       " {'baseCurrency': 'UAH',\n",
       "  'currency': 'NOK',\n",
       "  'saleRateNB': 4.1097,\n",
       "  'purchaseRateNB': 4.1097},\n",
       " {'baseCurrency': 'UAH',\n",
       "  'currency': 'PLN',\n",
       "  'saleRateNB': 11.4797,\n",
       "  'purchaseRateNB': 11.4797,\n",
       "  'saleRate': 12.2,\n",
       "  'purchaseRate': 11.35},\n",
       " {'baseCurrency': 'UAH',\n",
       "  'currency': 'SEK',\n",
       "  'saleRateNB': 4.358,\n",
       "  'purchaseRateNB': 4.358},\n",
       " {'baseCurrency': 'UAH',\n",
       "  'currency': 'SGD',\n",
       "  'saleRateNB': 32.5935,\n",
       "  'purchaseRateNB': 32.5935},\n",
       " {'baseCurrency': 'UAH',\n",
       "  'currency': 'TMT',\n",
       "  'saleRateNB': 11.8375,\n",
       "  'purchaseRateNB': 11.8375},\n",
       " {'baseCurrency': 'UAH',\n",
       "  'currency': 'TRY',\n",
       "  'saleRateNB': 1.0331,\n",
       "  'purchaseRateNB': 1.0331},\n",
       " {'baseCurrency': 'UAH',\n",
       "  'currency': 'UAH',\n",
       "  'saleRateNB': 1.0,\n",
       "  'purchaseRateNB': 1.0},\n",
       " {'baseCurrency': 'UAH',\n",
       "  'currency': 'USD',\n",
       "  'saleRateNB': 41.7653,\n",
       "  'purchaseRateNB': 41.7653,\n",
       "  'saleRate': 41.95,\n",
       "  'purchaseRate': 41.35},\n",
       " {'baseCurrency': 'UAH',\n",
       "  'currency': 'UZS',\n",
       "  'saleRateNB': 0.0032174,\n",
       "  'purchaseRateNB': 0.0032174},\n",
       " {'baseCurrency': 'UAH',\n",
       "  'currency': 'XAG',\n",
       "  'saleRateNB': 1.62615,\n",
       "  'purchaseRateNB': 1.62615},\n",
       " {'baseCurrency': 'UAH',\n",
       "  'currency': 'XAU',\n",
       "  'saleRateNB': 141.61987,\n",
       "  'purchaseRateNB': 141.61987}]"
      ]
     },
     "execution_count": 33,
     "metadata": {},
     "output_type": "execute_result"
    }
   ],
   "source": [
    "tranformed_response = json.loads(response.content)\n",
    "tranformed_response['exchangeRate']"
   ]
  },
  {
   "cell_type": "code",
   "execution_count": 34,
   "metadata": {},
   "outputs": [
    {
     "data": {
      "text/html": [
       "<div>\n",
       "<style scoped>\n",
       "    .dataframe tbody tr th:only-of-type {\n",
       "        vertical-align: middle;\n",
       "    }\n",
       "\n",
       "    .dataframe tbody tr th {\n",
       "        vertical-align: top;\n",
       "    }\n",
       "\n",
       "    .dataframe thead th {\n",
       "        text-align: right;\n",
       "    }\n",
       "</style>\n",
       "<table border=\"1\" class=\"dataframe\">\n",
       "  <thead>\n",
       "    <tr style=\"text-align: right;\">\n",
       "      <th></th>\n",
       "      <th>date</th>\n",
       "      <th>currency</th>\n",
       "      <th>saleRateNB</th>\n",
       "      <th>purchaseRateNB</th>\n",
       "    </tr>\n",
       "  </thead>\n",
       "  <tbody>\n",
       "    <tr>\n",
       "      <th>0</th>\n",
       "      <td>2025-07-23</td>\n",
       "      <td>EUR</td>\n",
       "      <td>48.8654</td>\n",
       "      <td>48.8654</td>\n",
       "    </tr>\n",
       "    <tr>\n",
       "      <th>1</th>\n",
       "      <td>2025-07-23</td>\n",
       "      <td>PLN</td>\n",
       "      <td>11.4797</td>\n",
       "      <td>11.4797</td>\n",
       "    </tr>\n",
       "    <tr>\n",
       "      <th>2</th>\n",
       "      <td>2025-07-23</td>\n",
       "      <td>USD</td>\n",
       "      <td>41.7653</td>\n",
       "      <td>41.7653</td>\n",
       "    </tr>\n",
       "    <tr>\n",
       "      <th>3</th>\n",
       "      <td>2025-07-22</td>\n",
       "      <td>EUR</td>\n",
       "      <td>48.7907</td>\n",
       "      <td>48.7907</td>\n",
       "    </tr>\n",
       "    <tr>\n",
       "      <th>4</th>\n",
       "      <td>2025-07-22</td>\n",
       "      <td>PLN</td>\n",
       "      <td>11.4986</td>\n",
       "      <td>11.4986</td>\n",
       "    </tr>\n",
       "    <tr>\n",
       "      <th>...</th>\n",
       "      <td>...</td>\n",
       "      <td>...</td>\n",
       "      <td>...</td>\n",
       "      <td>...</td>\n",
       "    </tr>\n",
       "    <tr>\n",
       "      <th>1069</th>\n",
       "      <td>2024-07-30</td>\n",
       "      <td>PLN</td>\n",
       "      <td>10.3544</td>\n",
       "      <td>10.3544</td>\n",
       "    </tr>\n",
       "    <tr>\n",
       "      <th>1070</th>\n",
       "      <td>2024-07-30</td>\n",
       "      <td>USD</td>\n",
       "      <td>41.0478</td>\n",
       "      <td>41.0478</td>\n",
       "    </tr>\n",
       "    <tr>\n",
       "      <th>1071</th>\n",
       "      <td>2024-07-29</td>\n",
       "      <td>EUR</td>\n",
       "      <td>44.6324</td>\n",
       "      <td>44.6324</td>\n",
       "    </tr>\n",
       "    <tr>\n",
       "      <th>1072</th>\n",
       "      <td>2024-07-29</td>\n",
       "      <td>PLN</td>\n",
       "      <td>10.4437</td>\n",
       "      <td>10.4437</td>\n",
       "    </tr>\n",
       "    <tr>\n",
       "      <th>1073</th>\n",
       "      <td>2024-07-29</td>\n",
       "      <td>USD</td>\n",
       "      <td>41.0980</td>\n",
       "      <td>41.0980</td>\n",
       "    </tr>\n",
       "  </tbody>\n",
       "</table>\n",
       "<p>1074 rows × 4 columns</p>\n",
       "</div>"
      ],
      "text/plain": [
       "            date currency  saleRateNB  purchaseRateNB\n",
       "0     2025-07-23      EUR     48.8654         48.8654\n",
       "1     2025-07-23      PLN     11.4797         11.4797\n",
       "2     2025-07-23      USD     41.7653         41.7653\n",
       "3     2025-07-22      EUR     48.7907         48.7907\n",
       "4     2025-07-22      PLN     11.4986         11.4986\n",
       "...          ...      ...         ...             ...\n",
       "1069  2024-07-30      PLN     10.3544         10.3544\n",
       "1070  2024-07-30      USD     41.0478         41.0478\n",
       "1071  2024-07-29      EUR     44.6324         44.6324\n",
       "1072  2024-07-29      PLN     10.4437         10.4437\n",
       "1073  2024-07-29      USD     41.0980         41.0980\n",
       "\n",
       "[1074 rows x 4 columns]"
      ]
     },
     "execution_count": 34,
     "metadata": {},
     "output_type": "execute_result"
    }
   ],
   "source": [
    "currencies = ['USD', 'EUR', 'PLN'] \n",
    "currency_df = pd.DataFrame()\n",
    "\n",
    "def get_exchange_rate(end_date, currencies):\n",
    "    days_diff = 360\n",
    "    currency_rates = []\n",
    "\n",
    "    for i in range(days_diff): \n",
    "        current_date = end_date - datetime.timedelta(days=i) \n",
    "        response = requests.get(f'https://api.privatbank.ua/p24api/exchange_rates?json&date={current_date.strftime('%d.%m.%Y')}')\n",
    "        data = json.loads(response.content) \n",
    "\n",
    "        for exch_rate in data['exchangeRate']: \n",
    "            if exch_rate['currency'] in currencies: \n",
    "                currency_rates.append({ \n",
    "                    'date': current_date.date(),\n",
    "                    'currency': exch_rate['currency'],\n",
    "                    'saleRateNB': exch_rate['saleRateNB'],\n",
    "                    'purchaseRateNB': exch_rate['purchaseRateNB']\n",
    "                })\n",
    "    \n",
    "    return pd.DataFrame(currency_rates) \n",
    "\n",
    "currency_df = get_exchange_rate(end_date_to_date, currencies)\n",
    "currency_df"
   ]
  },
  {
   "cell_type": "code",
   "execution_count": 35,
   "metadata": {},
   "outputs": [
    {
     "data": {
      "text/plain": [
       "358"
      ]
     },
     "execution_count": 35,
     "metadata": {},
     "output_type": "execute_result"
    }
   ],
   "source": [
    "currency_df['date'].nunique()"
   ]
  },
  {
   "cell_type": "code",
   "execution_count": 36,
   "metadata": {},
   "outputs": [
    {
     "data": {
      "text/html": [
       "<div>\n",
       "<style scoped>\n",
       "    .dataframe tbody tr th:only-of-type {\n",
       "        vertical-align: middle;\n",
       "    }\n",
       "\n",
       "    .dataframe tbody tr th {\n",
       "        vertical-align: top;\n",
       "    }\n",
       "\n",
       "    .dataframe thead th {\n",
       "        text-align: right;\n",
       "    }\n",
       "</style>\n",
       "<table border=\"1\" class=\"dataframe\">\n",
       "  <thead>\n",
       "    <tr style=\"text-align: right;\">\n",
       "      <th></th>\n",
       "      <th>date</th>\n",
       "      <th>currency</th>\n",
       "      <th>saleRateNB</th>\n",
       "      <th>purchaseRateNB</th>\n",
       "      <th>savings</th>\n",
       "      <th>cumulative_savings</th>\n",
       "    </tr>\n",
       "  </thead>\n",
       "  <tbody>\n",
       "    <tr>\n",
       "      <th>0</th>\n",
       "      <td>2024-07-29</td>\n",
       "      <td>EUR</td>\n",
       "      <td>44.6324</td>\n",
       "      <td>44.6324</td>\n",
       "      <td>44.810496</td>\n",
       "      <td>44.810496</td>\n",
       "    </tr>\n",
       "    <tr>\n",
       "      <th>3</th>\n",
       "      <td>2024-07-30</td>\n",
       "      <td>EUR</td>\n",
       "      <td>44.4055</td>\n",
       "      <td>44.4055</td>\n",
       "      <td>45.039466</td>\n",
       "      <td>89.849962</td>\n",
       "    </tr>\n",
       "    <tr>\n",
       "      <th>6</th>\n",
       "      <td>2024-07-31</td>\n",
       "      <td>EUR</td>\n",
       "      <td>44.4181</td>\n",
       "      <td>44.4181</td>\n",
       "      <td>45.026690</td>\n",
       "      <td>134.876652</td>\n",
       "    </tr>\n",
       "    <tr>\n",
       "      <th>9</th>\n",
       "      <td>2024-08-01</td>\n",
       "      <td>EUR</td>\n",
       "      <td>44.4016</td>\n",
       "      <td>44.4016</td>\n",
       "      <td>45.043422</td>\n",
       "      <td>179.920074</td>\n",
       "    </tr>\n",
       "    <tr>\n",
       "      <th>12</th>\n",
       "      <td>2024-08-02</td>\n",
       "      <td>EUR</td>\n",
       "      <td>44.4013</td>\n",
       "      <td>44.4013</td>\n",
       "      <td>45.043726</td>\n",
       "      <td>224.963800</td>\n",
       "    </tr>\n",
       "    <tr>\n",
       "      <th>...</th>\n",
       "      <td>...</td>\n",
       "      <td>...</td>\n",
       "      <td>...</td>\n",
       "      <td>...</td>\n",
       "      <td>...</td>\n",
       "      <td>...</td>\n",
       "    </tr>\n",
       "    <tr>\n",
       "      <th>1061</th>\n",
       "      <td>2025-07-19</td>\n",
       "      <td>USD</td>\n",
       "      <td>41.8670</td>\n",
       "      <td>41.8670</td>\n",
       "      <td>47.770320</td>\n",
       "      <td>17053.484389</td>\n",
       "    </tr>\n",
       "    <tr>\n",
       "      <th>1064</th>\n",
       "      <td>2025-07-20</td>\n",
       "      <td>USD</td>\n",
       "      <td>41.8670</td>\n",
       "      <td>41.8670</td>\n",
       "      <td>47.770320</td>\n",
       "      <td>17101.254709</td>\n",
       "    </tr>\n",
       "    <tr>\n",
       "      <th>1067</th>\n",
       "      <td>2025-07-21</td>\n",
       "      <td>USD</td>\n",
       "      <td>41.7514</td>\n",
       "      <td>41.7514</td>\n",
       "      <td>47.902585</td>\n",
       "      <td>17149.157294</td>\n",
       "    </tr>\n",
       "    <tr>\n",
       "      <th>1070</th>\n",
       "      <td>2025-07-22</td>\n",
       "      <td>USD</td>\n",
       "      <td>41.8194</td>\n",
       "      <td>41.8194</td>\n",
       "      <td>47.824694</td>\n",
       "      <td>17196.981988</td>\n",
       "    </tr>\n",
       "    <tr>\n",
       "      <th>1073</th>\n",
       "      <td>2025-07-23</td>\n",
       "      <td>USD</td>\n",
       "      <td>41.7653</td>\n",
       "      <td>41.7653</td>\n",
       "      <td>47.886643</td>\n",
       "      <td>17244.868631</td>\n",
       "    </tr>\n",
       "  </tbody>\n",
       "</table>\n",
       "<p>1074 rows × 6 columns</p>\n",
       "</div>"
      ],
      "text/plain": [
       "            date currency  saleRateNB  purchaseRateNB    savings  \\\n",
       "0     2024-07-29      EUR     44.6324         44.6324  44.810496   \n",
       "3     2024-07-30      EUR     44.4055         44.4055  45.039466   \n",
       "6     2024-07-31      EUR     44.4181         44.4181  45.026690   \n",
       "9     2024-08-01      EUR     44.4016         44.4016  45.043422   \n",
       "12    2024-08-02      EUR     44.4013         44.4013  45.043726   \n",
       "...          ...      ...         ...             ...        ...   \n",
       "1061  2025-07-19      USD     41.8670         41.8670  47.770320   \n",
       "1064  2025-07-20      USD     41.8670         41.8670  47.770320   \n",
       "1067  2025-07-21      USD     41.7514         41.7514  47.902585   \n",
       "1070  2025-07-22      USD     41.8194         41.8194  47.824694   \n",
       "1073  2025-07-23      USD     41.7653         41.7653  47.886643   \n",
       "\n",
       "      cumulative_savings  \n",
       "0              44.810496  \n",
       "3              89.849962  \n",
       "6             134.876652  \n",
       "9             179.920074  \n",
       "12            224.963800  \n",
       "...                  ...  \n",
       "1061        17053.484389  \n",
       "1064        17101.254709  \n",
       "1067        17149.157294  \n",
       "1070        17196.981988  \n",
       "1073        17244.868631  \n",
       "\n",
       "[1074 rows x 6 columns]"
      ]
     },
     "execution_count": 36,
     "metadata": {},
     "output_type": "execute_result"
    }
   ],
   "source": [
    "def cumsum_savings(df, daily=2000): \n",
    "    savings_df = df.copy() \n",
    "    savings_df = savings_df.sort_values(by=['date', 'currency']).reset_index(drop=True)\n",
    "\n",
    "    savings_df['savings'] = daily / savings_df['saleRateNB'] \n",
    "    savings_df['cumulative_savings'] = savings_df.groupby('currency')['savings'].cumsum() \n",
    "    return savings_df\n",
    "\n",
    "currency_df = cumsum_savings(currency_df)\n",
    "currency_df.sort_values(['currency', 'date'])"
   ]
  },
  {
   "cell_type": "code",
   "execution_count": 37,
   "metadata": {},
   "outputs": [
    {
     "data": {
      "application/vnd.plotly.v1+json": {
       "config": {
        "plotlyServerURL": "https://plot.ly"
       },
       "data": [
        {
         "hovertemplate": "Валюта=EUR<br>Дата=%{x}<br>Збереження=%{y}<extra></extra>",
         "legendgroup": "EUR",
         "line": {
          "color": "#636efa",
          "dash": "solid"
         },
         "marker": {
          "symbol": "circle"
         },
         "mode": "lines",
         "name": "EUR",
         "showlegend": true,
         "type": "scattergl",
         "x": [
          "2024-07-29",
          "2024-07-30",
          "2024-07-31",
          "2024-08-01",
          "2024-08-02",
          "2024-08-03",
          "2024-08-04",
          "2024-08-05",
          "2024-08-06",
          "2024-08-07",
          "2024-08-08",
          "2024-08-09",
          "2024-08-10",
          "2024-08-11",
          "2024-08-12",
          "2024-08-13",
          "2024-08-14",
          "2024-08-15",
          "2024-08-16",
          "2024-08-17",
          "2024-08-18",
          "2024-08-19",
          "2024-08-20",
          "2024-08-21",
          "2024-08-22",
          "2024-08-23",
          "2024-08-24",
          "2024-08-25",
          "2024-08-26",
          "2024-08-27",
          "2024-08-28",
          "2024-08-29",
          "2024-08-30",
          "2024-08-31",
          "2024-09-01",
          "2024-09-02",
          "2024-09-03",
          "2024-09-04",
          "2024-09-05",
          "2024-09-06",
          "2024-09-07",
          "2024-09-08",
          "2024-09-09",
          "2024-09-10",
          "2024-09-11",
          "2024-09-12",
          "2024-09-13",
          "2024-09-14",
          "2024-09-15",
          "2024-09-16",
          "2024-09-17",
          "2024-09-18",
          "2024-09-19",
          "2024-09-20",
          "2024-09-21",
          "2024-09-22",
          "2024-09-23",
          "2024-09-24",
          "2024-09-25",
          "2024-09-26",
          "2024-09-27",
          "2024-09-28",
          "2024-09-29",
          "2024-09-30",
          "2024-10-01",
          "2024-10-02",
          "2024-10-03",
          "2024-10-04",
          "2024-10-05",
          "2024-10-06",
          "2024-10-07",
          "2024-10-08",
          "2024-10-09",
          "2024-10-10",
          "2024-10-11",
          "2024-10-12",
          "2024-10-13",
          "2024-10-14",
          "2024-10-15",
          "2024-10-16",
          "2024-10-17",
          "2024-10-18",
          "2024-10-19",
          "2024-10-20",
          "2024-10-21",
          "2024-10-22",
          "2024-10-23",
          "2024-10-24",
          "2024-10-25",
          "2024-10-26",
          "2024-10-28",
          "2024-10-29",
          "2024-10-30",
          "2024-10-31",
          "2024-11-01",
          "2024-11-02",
          "2024-11-03",
          "2024-11-04",
          "2024-11-05",
          "2024-11-06",
          "2024-11-07",
          "2024-11-08",
          "2024-11-09",
          "2024-11-10",
          "2024-11-11",
          "2024-11-12",
          "2024-11-13",
          "2024-11-14",
          "2024-11-15",
          "2024-11-16",
          "2024-11-17",
          "2024-11-18",
          "2024-11-19",
          "2024-11-20",
          "2024-11-21",
          "2024-11-22",
          "2024-11-23",
          "2024-11-24",
          "2024-11-25",
          "2024-11-26",
          "2024-11-27",
          "2024-11-28",
          "2024-11-29",
          "2024-11-30",
          "2024-12-01",
          "2024-12-02",
          "2024-12-03",
          "2024-12-04",
          "2024-12-05",
          "2024-12-06",
          "2024-12-07",
          "2024-12-08",
          "2024-12-09",
          "2024-12-10",
          "2024-12-11",
          "2024-12-12",
          "2024-12-13",
          "2024-12-14",
          "2024-12-15",
          "2024-12-16",
          "2024-12-17",
          "2024-12-18",
          "2024-12-19",
          "2024-12-20",
          "2024-12-21",
          "2024-12-22",
          "2024-12-23",
          "2024-12-24",
          "2024-12-25",
          "2024-12-26",
          "2024-12-27",
          "2024-12-28",
          "2024-12-29",
          "2024-12-30",
          "2024-12-31",
          "2025-01-01",
          "2025-01-02",
          "2025-01-03",
          "2025-01-04",
          "2025-01-05",
          "2025-01-06",
          "2025-01-07",
          "2025-01-08",
          "2025-01-09",
          "2025-01-10",
          "2025-01-11",
          "2025-01-12",
          "2025-01-13",
          "2025-01-14",
          "2025-01-15",
          "2025-01-16",
          "2025-01-17",
          "2025-01-18",
          "2025-01-19",
          "2025-01-20",
          "2025-01-21",
          "2025-01-22",
          "2025-01-23",
          "2025-01-24",
          "2025-01-25",
          "2025-01-26",
          "2025-01-27",
          "2025-01-28",
          "2025-01-29",
          "2025-01-30",
          "2025-01-31",
          "2025-02-01",
          "2025-02-02",
          "2025-02-03",
          "2025-02-04",
          "2025-02-05",
          "2025-02-06",
          "2025-02-07",
          "2025-02-08",
          "2025-02-09",
          "2025-02-10",
          "2025-02-11",
          "2025-02-12",
          "2025-02-13",
          "2025-02-14",
          "2025-02-15",
          "2025-02-16",
          "2025-02-17",
          "2025-02-18",
          "2025-02-19",
          "2025-02-20",
          "2025-02-21",
          "2025-02-22",
          "2025-02-23",
          "2025-02-24",
          "2025-02-25",
          "2025-02-26",
          "2025-02-27",
          "2025-02-28",
          "2025-03-01",
          "2025-03-02",
          "2025-03-03",
          "2025-03-04",
          "2025-03-05",
          "2025-03-06",
          "2025-03-07",
          "2025-03-08",
          "2025-03-09",
          "2025-03-10",
          "2025-03-11",
          "2025-03-12",
          "2025-03-13",
          "2025-03-14",
          "2025-03-15",
          "2025-03-16",
          "2025-03-17",
          "2025-03-18",
          "2025-03-19",
          "2025-03-20",
          "2025-03-21",
          "2025-03-22",
          "2025-03-23",
          "2025-03-24",
          "2025-03-25",
          "2025-03-26",
          "2025-03-27",
          "2025-03-28",
          "2025-03-29",
          "2025-03-31",
          "2025-04-01",
          "2025-04-02",
          "2025-04-03",
          "2025-04-04",
          "2025-04-05",
          "2025-04-06",
          "2025-04-07",
          "2025-04-08",
          "2025-04-09",
          "2025-04-10",
          "2025-04-11",
          "2025-04-12",
          "2025-04-13",
          "2025-04-14",
          "2025-04-15",
          "2025-04-16",
          "2025-04-17",
          "2025-04-18",
          "2025-04-19",
          "2025-04-20",
          "2025-04-21",
          "2025-04-22",
          "2025-04-23",
          "2025-04-24",
          "2025-04-25",
          "2025-04-26",
          "2025-04-27",
          "2025-04-28",
          "2025-04-29",
          "2025-04-30",
          "2025-05-01",
          "2025-05-02",
          "2025-05-03",
          "2025-05-04",
          "2025-05-05",
          "2025-05-06",
          "2025-05-07",
          "2025-05-08",
          "2025-05-09",
          "2025-05-10",
          "2025-05-11",
          "2025-05-12",
          "2025-05-13",
          "2025-05-14",
          "2025-05-15",
          "2025-05-16",
          "2025-05-17",
          "2025-05-18",
          "2025-05-19",
          "2025-05-20",
          "2025-05-21",
          "2025-05-22",
          "2025-05-23",
          "2025-05-24",
          "2025-05-25",
          "2025-05-26",
          "2025-05-27",
          "2025-05-28",
          "2025-05-29",
          "2025-05-30",
          "2025-05-31",
          "2025-06-01",
          "2025-06-02",
          "2025-06-03",
          "2025-06-04",
          "2025-06-05",
          "2025-06-06",
          "2025-06-07",
          "2025-06-08",
          "2025-06-09",
          "2025-06-10",
          "2025-06-11",
          "2025-06-12",
          "2025-06-13",
          "2025-06-14",
          "2025-06-15",
          "2025-06-16",
          "2025-06-17",
          "2025-06-18",
          "2025-06-19",
          "2025-06-20",
          "2025-06-21",
          "2025-06-22",
          "2025-06-23",
          "2025-06-24",
          "2025-06-25",
          "2025-06-26",
          "2025-06-27",
          "2025-06-28",
          "2025-06-29",
          "2025-06-30",
          "2025-07-01",
          "2025-07-02",
          "2025-07-03",
          "2025-07-04",
          "2025-07-05",
          "2025-07-06",
          "2025-07-07",
          "2025-07-08",
          "2025-07-09",
          "2025-07-10",
          "2025-07-11",
          "2025-07-12",
          "2025-07-13",
          "2025-07-14",
          "2025-07-15",
          "2025-07-16",
          "2025-07-17",
          "2025-07-18",
          "2025-07-19",
          "2025-07-20",
          "2025-07-21",
          "2025-07-22",
          "2025-07-23"
         ],
         "xaxis": "x",
         "y": {
          "bdata": "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",
          "dtype": "f8"
         },
         "yaxis": "y"
        },
        {
         "hovertemplate": "Валюта=PLN<br>Дата=%{x}<br>Збереження=%{y}<extra></extra>",
         "legendgroup": "PLN",
         "line": {
          "color": "#EF553B",
          "dash": "solid"
         },
         "marker": {
          "symbol": "circle"
         },
         "mode": "lines",
         "name": "PLN",
         "showlegend": true,
         "type": "scattergl",
         "x": [
          "2024-07-29",
          "2024-07-30",
          "2024-07-31",
          "2024-08-01",
          "2024-08-02",
          "2024-08-03",
          "2024-08-04",
          "2024-08-05",
          "2024-08-06",
          "2024-08-07",
          "2024-08-08",
          "2024-08-09",
          "2024-08-10",
          "2024-08-11",
          "2024-08-12",
          "2024-08-13",
          "2024-08-14",
          "2024-08-15",
          "2024-08-16",
          "2024-08-17",
          "2024-08-18",
          "2024-08-19",
          "2024-08-20",
          "2024-08-21",
          "2024-08-22",
          "2024-08-23",
          "2024-08-24",
          "2024-08-25",
          "2024-08-26",
          "2024-08-27",
          "2024-08-28",
          "2024-08-29",
          "2024-08-30",
          "2024-08-31",
          "2024-09-01",
          "2024-09-02",
          "2024-09-03",
          "2024-09-04",
          "2024-09-05",
          "2024-09-06",
          "2024-09-07",
          "2024-09-08",
          "2024-09-09",
          "2024-09-10",
          "2024-09-11",
          "2024-09-12",
          "2024-09-13",
          "2024-09-14",
          "2024-09-15",
          "2024-09-16",
          "2024-09-17",
          "2024-09-18",
          "2024-09-19",
          "2024-09-20",
          "2024-09-21",
          "2024-09-22",
          "2024-09-23",
          "2024-09-24",
          "2024-09-25",
          "2024-09-26",
          "2024-09-27",
          "2024-09-28",
          "2024-09-29",
          "2024-09-30",
          "2024-10-01",
          "2024-10-02",
          "2024-10-03",
          "2024-10-04",
          "2024-10-05",
          "2024-10-06",
          "2024-10-07",
          "2024-10-08",
          "2024-10-09",
          "2024-10-10",
          "2024-10-11",
          "2024-10-12",
          "2024-10-13",
          "2024-10-14",
          "2024-10-15",
          "2024-10-16",
          "2024-10-17",
          "2024-10-18",
          "2024-10-19",
          "2024-10-20",
          "2024-10-21",
          "2024-10-22",
          "2024-10-23",
          "2024-10-24",
          "2024-10-25",
          "2024-10-26",
          "2024-10-28",
          "2024-10-29",
          "2024-10-30",
          "2024-10-31",
          "2024-11-01",
          "2024-11-02",
          "2024-11-03",
          "2024-11-04",
          "2024-11-05",
          "2024-11-06",
          "2024-11-07",
          "2024-11-08",
          "2024-11-09",
          "2024-11-10",
          "2024-11-11",
          "2024-11-12",
          "2024-11-13",
          "2024-11-14",
          "2024-11-15",
          "2024-11-16",
          "2024-11-17",
          "2024-11-18",
          "2024-11-19",
          "2024-11-20",
          "2024-11-21",
          "2024-11-22",
          "2024-11-23",
          "2024-11-24",
          "2024-11-25",
          "2024-11-26",
          "2024-11-27",
          "2024-11-28",
          "2024-11-29",
          "2024-11-30",
          "2024-12-01",
          "2024-12-02",
          "2024-12-03",
          "2024-12-04",
          "2024-12-05",
          "2024-12-06",
          "2024-12-07",
          "2024-12-08",
          "2024-12-09",
          "2024-12-10",
          "2024-12-11",
          "2024-12-12",
          "2024-12-13",
          "2024-12-14",
          "2024-12-15",
          "2024-12-16",
          "2024-12-17",
          "2024-12-18",
          "2024-12-19",
          "2024-12-20",
          "2024-12-21",
          "2024-12-22",
          "2024-12-23",
          "2024-12-24",
          "2024-12-25",
          "2024-12-26",
          "2024-12-27",
          "2024-12-28",
          "2024-12-29",
          "2024-12-30",
          "2024-12-31",
          "2025-01-01",
          "2025-01-02",
          "2025-01-03",
          "2025-01-04",
          "2025-01-05",
          "2025-01-06",
          "2025-01-07",
          "2025-01-08",
          "2025-01-09",
          "2025-01-10",
          "2025-01-11",
          "2025-01-12",
          "2025-01-13",
          "2025-01-14",
          "2025-01-15",
          "2025-01-16",
          "2025-01-17",
          "2025-01-18",
          "2025-01-19",
          "2025-01-20",
          "2025-01-21",
          "2025-01-22",
          "2025-01-23",
          "2025-01-24",
          "2025-01-25",
          "2025-01-26",
          "2025-01-27",
          "2025-01-28",
          "2025-01-29",
          "2025-01-30",
          "2025-01-31",
          "2025-02-01",
          "2025-02-02",
          "2025-02-03",
          "2025-02-04",
          "2025-02-05",
          "2025-02-06",
          "2025-02-07",
          "2025-02-08",
          "2025-02-09",
          "2025-02-10",
          "2025-02-11",
          "2025-02-12",
          "2025-02-13",
          "2025-02-14",
          "2025-02-15",
          "2025-02-16",
          "2025-02-17",
          "2025-02-18",
          "2025-02-19",
          "2025-02-20",
          "2025-02-21",
          "2025-02-22",
          "2025-02-23",
          "2025-02-24",
          "2025-02-25",
          "2025-02-26",
          "2025-02-27",
          "2025-02-28",
          "2025-03-01",
          "2025-03-02",
          "2025-03-03",
          "2025-03-04",
          "2025-03-05",
          "2025-03-06",
          "2025-03-07",
          "2025-03-08",
          "2025-03-09",
          "2025-03-10",
          "2025-03-11",
          "2025-03-12",
          "2025-03-13",
          "2025-03-14",
          "2025-03-15",
          "2025-03-16",
          "2025-03-17",
          "2025-03-18",
          "2025-03-19",
          "2025-03-20",
          "2025-03-21",
          "2025-03-22",
          "2025-03-23",
          "2025-03-24",
          "2025-03-25",
          "2025-03-26",
          "2025-03-27",
          "2025-03-28",
          "2025-03-29",
          "2025-03-31",
          "2025-04-01",
          "2025-04-02",
          "2025-04-03",
          "2025-04-04",
          "2025-04-05",
          "2025-04-06",
          "2025-04-07",
          "2025-04-08",
          "2025-04-09",
          "2025-04-10",
          "2025-04-11",
          "2025-04-12",
          "2025-04-13",
          "2025-04-14",
          "2025-04-15",
          "2025-04-16",
          "2025-04-17",
          "2025-04-18",
          "2025-04-19",
          "2025-04-20",
          "2025-04-21",
          "2025-04-22",
          "2025-04-23",
          "2025-04-24",
          "2025-04-25",
          "2025-04-26",
          "2025-04-27",
          "2025-04-28",
          "2025-04-29",
          "2025-04-30",
          "2025-05-01",
          "2025-05-02",
          "2025-05-03",
          "2025-05-04",
          "2025-05-05",
          "2025-05-06",
          "2025-05-07",
          "2025-05-08",
          "2025-05-09",
          "2025-05-10",
          "2025-05-11",
          "2025-05-12",
          "2025-05-13",
          "2025-05-14",
          "2025-05-15",
          "2025-05-16",
          "2025-05-17",
          "2025-05-18",
          "2025-05-19",
          "2025-05-20",
          "2025-05-21",
          "2025-05-22",
          "2025-05-23",
          "2025-05-24",
          "2025-05-25",
          "2025-05-26",
          "2025-05-27",
          "2025-05-28",
          "2025-05-29",
          "2025-05-30",
          "2025-05-31",
          "2025-06-01",
          "2025-06-02",
          "2025-06-03",
          "2025-06-04",
          "2025-06-05",
          "2025-06-06",
          "2025-06-07",
          "2025-06-08",
          "2025-06-09",
          "2025-06-10",
          "2025-06-11",
          "2025-06-12",
          "2025-06-13",
          "2025-06-14",
          "2025-06-15",
          "2025-06-16",
          "2025-06-17",
          "2025-06-18",
          "2025-06-19",
          "2025-06-20",
          "2025-06-21",
          "2025-06-22",
          "2025-06-23",
          "2025-06-24",
          "2025-06-25",
          "2025-06-26",
          "2025-06-27",
          "2025-06-28",
          "2025-06-29",
          "2025-06-30",
          "2025-07-01",
          "2025-07-02",
          "2025-07-03",
          "2025-07-04",
          "2025-07-05",
          "2025-07-06",
          "2025-07-07",
          "2025-07-08",
          "2025-07-09",
          "2025-07-10",
          "2025-07-11",
          "2025-07-12",
          "2025-07-13",
          "2025-07-14",
          "2025-07-15",
          "2025-07-16",
          "2025-07-17",
          "2025-07-18",
          "2025-07-19",
          "2025-07-20",
          "2025-07-21",
          "2025-07-22",
          "2025-07-23"
         ],
         "xaxis": "x",
         "y": {
          "bdata": "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",
          "dtype": "f8"
         },
         "yaxis": "y"
        },
        {
         "hovertemplate": "Валюта=USD<br>Дата=%{x}<br>Збереження=%{y}<extra></extra>",
         "legendgroup": "USD",
         "line": {
          "color": "#00cc96",
          "dash": "solid"
         },
         "marker": {
          "symbol": "circle"
         },
         "mode": "lines",
         "name": "USD",
         "showlegend": true,
         "type": "scattergl",
         "x": [
          "2024-07-29",
          "2024-07-30",
          "2024-07-31",
          "2024-08-01",
          "2024-08-02",
          "2024-08-03",
          "2024-08-04",
          "2024-08-05",
          "2024-08-06",
          "2024-08-07",
          "2024-08-08",
          "2024-08-09",
          "2024-08-10",
          "2024-08-11",
          "2024-08-12",
          "2024-08-13",
          "2024-08-14",
          "2024-08-15",
          "2024-08-16",
          "2024-08-17",
          "2024-08-18",
          "2024-08-19",
          "2024-08-20",
          "2024-08-21",
          "2024-08-22",
          "2024-08-23",
          "2024-08-24",
          "2024-08-25",
          "2024-08-26",
          "2024-08-27",
          "2024-08-28",
          "2024-08-29",
          "2024-08-30",
          "2024-08-31",
          "2024-09-01",
          "2024-09-02",
          "2024-09-03",
          "2024-09-04",
          "2024-09-05",
          "2024-09-06",
          "2024-09-07",
          "2024-09-08",
          "2024-09-09",
          "2024-09-10",
          "2024-09-11",
          "2024-09-12",
          "2024-09-13",
          "2024-09-14",
          "2024-09-15",
          "2024-09-16",
          "2024-09-17",
          "2024-09-18",
          "2024-09-19",
          "2024-09-20",
          "2024-09-21",
          "2024-09-22",
          "2024-09-23",
          "2024-09-24",
          "2024-09-25",
          "2024-09-26",
          "2024-09-27",
          "2024-09-28",
          "2024-09-29",
          "2024-09-30",
          "2024-10-01",
          "2024-10-02",
          "2024-10-03",
          "2024-10-04",
          "2024-10-05",
          "2024-10-06",
          "2024-10-07",
          "2024-10-08",
          "2024-10-09",
          "2024-10-10",
          "2024-10-11",
          "2024-10-12",
          "2024-10-13",
          "2024-10-14",
          "2024-10-15",
          "2024-10-16",
          "2024-10-17",
          "2024-10-18",
          "2024-10-19",
          "2024-10-20",
          "2024-10-21",
          "2024-10-22",
          "2024-10-23",
          "2024-10-24",
          "2024-10-25",
          "2024-10-26",
          "2024-10-28",
          "2024-10-29",
          "2024-10-30",
          "2024-10-31",
          "2024-11-01",
          "2024-11-02",
          "2024-11-03",
          "2024-11-04",
          "2024-11-05",
          "2024-11-06",
          "2024-11-07",
          "2024-11-08",
          "2024-11-09",
          "2024-11-10",
          "2024-11-11",
          "2024-11-12",
          "2024-11-13",
          "2024-11-14",
          "2024-11-15",
          "2024-11-16",
          "2024-11-17",
          "2024-11-18",
          "2024-11-19",
          "2024-11-20",
          "2024-11-21",
          "2024-11-22",
          "2024-11-23",
          "2024-11-24",
          "2024-11-25",
          "2024-11-26",
          "2024-11-27",
          "2024-11-28",
          "2024-11-29",
          "2024-11-30",
          "2024-12-01",
          "2024-12-02",
          "2024-12-03",
          "2024-12-04",
          "2024-12-05",
          "2024-12-06",
          "2024-12-07",
          "2024-12-08",
          "2024-12-09",
          "2024-12-10",
          "2024-12-11",
          "2024-12-12",
          "2024-12-13",
          "2024-12-14",
          "2024-12-15",
          "2024-12-16",
          "2024-12-17",
          "2024-12-18",
          "2024-12-19",
          "2024-12-20",
          "2024-12-21",
          "2024-12-22",
          "2024-12-23",
          "2024-12-24",
          "2024-12-25",
          "2024-12-26",
          "2024-12-27",
          "2024-12-28",
          "2024-12-29",
          "2024-12-30",
          "2024-12-31",
          "2025-01-01",
          "2025-01-02",
          "2025-01-03",
          "2025-01-04",
          "2025-01-05",
          "2025-01-06",
          "2025-01-07",
          "2025-01-08",
          "2025-01-09",
          "2025-01-10",
          "2025-01-11",
          "2025-01-12",
          "2025-01-13",
          "2025-01-14",
          "2025-01-15",
          "2025-01-16",
          "2025-01-17",
          "2025-01-18",
          "2025-01-19",
          "2025-01-20",
          "2025-01-21",
          "2025-01-22",
          "2025-01-23",
          "2025-01-24",
          "2025-01-25",
          "2025-01-26",
          "2025-01-27",
          "2025-01-28",
          "2025-01-29",
          "2025-01-30",
          "2025-01-31",
          "2025-02-01",
          "2025-02-02",
          "2025-02-03",
          "2025-02-04",
          "2025-02-05",
          "2025-02-06",
          "2025-02-07",
          "2025-02-08",
          "2025-02-09",
          "2025-02-10",
          "2025-02-11",
          "2025-02-12",
          "2025-02-13",
          "2025-02-14",
          "2025-02-15",
          "2025-02-16",
          "2025-02-17",
          "2025-02-18",
          "2025-02-19",
          "2025-02-20",
          "2025-02-21",
          "2025-02-22",
          "2025-02-23",
          "2025-02-24",
          "2025-02-25",
          "2025-02-26",
          "2025-02-27",
          "2025-02-28",
          "2025-03-01",
          "2025-03-02",
          "2025-03-03",
          "2025-03-04",
          "2025-03-05",
          "2025-03-06",
          "2025-03-07",
          "2025-03-08",
          "2025-03-09",
          "2025-03-10",
          "2025-03-11",
          "2025-03-12",
          "2025-03-13",
          "2025-03-14",
          "2025-03-15",
          "2025-03-16",
          "2025-03-17",
          "2025-03-18",
          "2025-03-19",
          "2025-03-20",
          "2025-03-21",
          "2025-03-22",
          "2025-03-23",
          "2025-03-24",
          "2025-03-25",
          "2025-03-26",
          "2025-03-27",
          "2025-03-28",
          "2025-03-29",
          "2025-03-31",
          "2025-04-01",
          "2025-04-02",
          "2025-04-03",
          "2025-04-04",
          "2025-04-05",
          "2025-04-06",
          "2025-04-07",
          "2025-04-08",
          "2025-04-09",
          "2025-04-10",
          "2025-04-11",
          "2025-04-12",
          "2025-04-13",
          "2025-04-14",
          "2025-04-15",
          "2025-04-16",
          "2025-04-17",
          "2025-04-18",
          "2025-04-19",
          "2025-04-20",
          "2025-04-21",
          "2025-04-22",
          "2025-04-23",
          "2025-04-24",
          "2025-04-25",
          "2025-04-26",
          "2025-04-27",
          "2025-04-28",
          "2025-04-29",
          "2025-04-30",
          "2025-05-01",
          "2025-05-02",
          "2025-05-03",
          "2025-05-04",
          "2025-05-05",
          "2025-05-06",
          "2025-05-07",
          "2025-05-08",
          "2025-05-09",
          "2025-05-10",
          "2025-05-11",
          "2025-05-12",
          "2025-05-13",
          "2025-05-14",
          "2025-05-15",
          "2025-05-16",
          "2025-05-17",
          "2025-05-18",
          "2025-05-19",
          "2025-05-20",
          "2025-05-21",
          "2025-05-22",
          "2025-05-23",
          "2025-05-24",
          "2025-05-25",
          "2025-05-26",
          "2025-05-27",
          "2025-05-28",
          "2025-05-29",
          "2025-05-30",
          "2025-05-31",
          "2025-06-01",
          "2025-06-02",
          "2025-06-03",
          "2025-06-04",
          "2025-06-05",
          "2025-06-06",
          "2025-06-07",
          "2025-06-08",
          "2025-06-09",
          "2025-06-10",
          "2025-06-11",
          "2025-06-12",
          "2025-06-13",
          "2025-06-14",
          "2025-06-15",
          "2025-06-16",
          "2025-06-17",
          "2025-06-18",
          "2025-06-19",
          "2025-06-20",
          "2025-06-21",
          "2025-06-22",
          "2025-06-23",
          "2025-06-24",
          "2025-06-25",
          "2025-06-26",
          "2025-06-27",
          "2025-06-28",
          "2025-06-29",
          "2025-06-30",
          "2025-07-01",
          "2025-07-02",
          "2025-07-03",
          "2025-07-04",
          "2025-07-05",
          "2025-07-06",
          "2025-07-07",
          "2025-07-08",
          "2025-07-09",
          "2025-07-10",
          "2025-07-11",
          "2025-07-12",
          "2025-07-13",
          "2025-07-14",
          "2025-07-15",
          "2025-07-16",
          "2025-07-17",
          "2025-07-18",
          "2025-07-19",
          "2025-07-20",
          "2025-07-21",
          "2025-07-22",
          "2025-07-23"
         ],
         "xaxis": "x",
         "y": {
          "bdata": "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",
          "dtype": "f8"
         },
         "yaxis": "y"
        }
       ],
       "layout": {
        "height": 500,
        "legend": {
         "title": {
          "text": "Валюта"
         },
         "tracegroupgap": 0
        },
        "template": {
         "data": {
          "bar": [
           {
            "error_x": {
             "color": "#2a3f5f"
            },
            "error_y": {
             "color": "#2a3f5f"
            },
            "marker": {
             "line": {
              "color": "#E5ECF6",
              "width": 0.5
             },
             "pattern": {
              "fillmode": "overlay",
              "size": 10,
              "solidity": 0.2
             }
            },
            "type": "bar"
           }
          ],
          "barpolar": [
           {
            "marker": {
             "line": {
              "color": "#E5ECF6",
              "width": 0.5
             },
             "pattern": {
              "fillmode": "overlay",
              "size": 10,
              "solidity": 0.2
             }
            },
            "type": "barpolar"
           }
          ],
          "carpet": [
           {
            "aaxis": {
             "endlinecolor": "#2a3f5f",
             "gridcolor": "white",
             "linecolor": "white",
             "minorgridcolor": "white",
             "startlinecolor": "#2a3f5f"
            },
            "baxis": {
             "endlinecolor": "#2a3f5f",
             "gridcolor": "white",
             "linecolor": "white",
             "minorgridcolor": "white",
             "startlinecolor": "#2a3f5f"
            },
            "type": "carpet"
           }
          ],
          "choropleth": [
           {
            "colorbar": {
             "outlinewidth": 0,
             "ticks": ""
            },
            "type": "choropleth"
           }
          ],
          "contour": [
           {
            "colorbar": {
             "outlinewidth": 0,
             "ticks": ""
            },
            "colorscale": [
             [
              0,
              "#0d0887"
             ],
             [
              0.1111111111111111,
              "#46039f"
             ],
             [
              0.2222222222222222,
              "#7201a8"
             ],
             [
              0.3333333333333333,
              "#9c179e"
             ],
             [
              0.4444444444444444,
              "#bd3786"
             ],
             [
              0.5555555555555556,
              "#d8576b"
             ],
             [
              0.6666666666666666,
              "#ed7953"
             ],
             [
              0.7777777777777778,
              "#fb9f3a"
             ],
             [
              0.8888888888888888,
              "#fdca26"
             ],
             [
              1,
              "#f0f921"
             ]
            ],
            "type": "contour"
           }
          ],
          "contourcarpet": [
           {
            "colorbar": {
             "outlinewidth": 0,
             "ticks": ""
            },
            "type": "contourcarpet"
           }
          ],
          "heatmap": [
           {
            "colorbar": {
             "outlinewidth": 0,
             "ticks": ""
            },
            "colorscale": [
             [
              0,
              "#0d0887"
             ],
             [
              0.1111111111111111,
              "#46039f"
             ],
             [
              0.2222222222222222,
              "#7201a8"
             ],
             [
              0.3333333333333333,
              "#9c179e"
             ],
             [
              0.4444444444444444,
              "#bd3786"
             ],
             [
              0.5555555555555556,
              "#d8576b"
             ],
             [
              0.6666666666666666,
              "#ed7953"
             ],
             [
              0.7777777777777778,
              "#fb9f3a"
             ],
             [
              0.8888888888888888,
              "#fdca26"
             ],
             [
              1,
              "#f0f921"
             ]
            ],
            "type": "heatmap"
           }
          ],
          "histogram": [
           {
            "marker": {
             "pattern": {
              "fillmode": "overlay",
              "size": 10,
              "solidity": 0.2
             }
            },
            "type": "histogram"
           }
          ],
          "histogram2d": [
           {
            "colorbar": {
             "outlinewidth": 0,
             "ticks": ""
            },
            "colorscale": [
             [
              0,
              "#0d0887"
             ],
             [
              0.1111111111111111,
              "#46039f"
             ],
             [
              0.2222222222222222,
              "#7201a8"
             ],
             [
              0.3333333333333333,
              "#9c179e"
             ],
             [
              0.4444444444444444,
              "#bd3786"
             ],
             [
              0.5555555555555556,
              "#d8576b"
             ],
             [
              0.6666666666666666,
              "#ed7953"
             ],
             [
              0.7777777777777778,
              "#fb9f3a"
             ],
             [
              0.8888888888888888,
              "#fdca26"
             ],
             [
              1,
              "#f0f921"
             ]
            ],
            "type": "histogram2d"
           }
          ],
          "histogram2dcontour": [
           {
            "colorbar": {
             "outlinewidth": 0,
             "ticks": ""
            },
            "colorscale": [
             [
              0,
              "#0d0887"
             ],
             [
              0.1111111111111111,
              "#46039f"
             ],
             [
              0.2222222222222222,
              "#7201a8"
             ],
             [
              0.3333333333333333,
              "#9c179e"
             ],
             [
              0.4444444444444444,
              "#bd3786"
             ],
             [
              0.5555555555555556,
              "#d8576b"
             ],
             [
              0.6666666666666666,
              "#ed7953"
             ],
             [
              0.7777777777777778,
              "#fb9f3a"
             ],
             [
              0.8888888888888888,
              "#fdca26"
             ],
             [
              1,
              "#f0f921"
             ]
            ],
            "type": "histogram2dcontour"
           }
          ],
          "mesh3d": [
           {
            "colorbar": {
             "outlinewidth": 0,
             "ticks": ""
            },
            "type": "mesh3d"
           }
          ],
          "parcoords": [
           {
            "line": {
             "colorbar": {
              "outlinewidth": 0,
              "ticks": ""
             }
            },
            "type": "parcoords"
           }
          ],
          "pie": [
           {
            "automargin": true,
            "type": "pie"
           }
          ],
          "scatter": [
           {
            "fillpattern": {
             "fillmode": "overlay",
             "size": 10,
             "solidity": 0.2
            },
            "type": "scatter"
           }
          ],
          "scatter3d": [
           {
            "line": {
             "colorbar": {
              "outlinewidth": 0,
              "ticks": ""
             }
            },
            "marker": {
             "colorbar": {
              "outlinewidth": 0,
              "ticks": ""
             }
            },
            "type": "scatter3d"
           }
          ],
          "scattercarpet": [
           {
            "marker": {
             "colorbar": {
              "outlinewidth": 0,
              "ticks": ""
             }
            },
            "type": "scattercarpet"
           }
          ],
          "scattergeo": [
           {
            "marker": {
             "colorbar": {
              "outlinewidth": 0,
              "ticks": ""
             }
            },
            "type": "scattergeo"
           }
          ],
          "scattergl": [
           {
            "marker": {
             "colorbar": {
              "outlinewidth": 0,
              "ticks": ""
             }
            },
            "type": "scattergl"
           }
          ],
          "scattermap": [
           {
            "marker": {
             "colorbar": {
              "outlinewidth": 0,
              "ticks": ""
             }
            },
            "type": "scattermap"
           }
          ],
          "scattermapbox": [
           {
            "marker": {
             "colorbar": {
              "outlinewidth": 0,
              "ticks": ""
             }
            },
            "type": "scattermapbox"
           }
          ],
          "scatterpolar": [
           {
            "marker": {
             "colorbar": {
              "outlinewidth": 0,
              "ticks": ""
             }
            },
            "type": "scatterpolar"
           }
          ],
          "scatterpolargl": [
           {
            "marker": {
             "colorbar": {
              "outlinewidth": 0,
              "ticks": ""
             }
            },
            "type": "scatterpolargl"
           }
          ],
          "scatterternary": [
           {
            "marker": {
             "colorbar": {
              "outlinewidth": 0,
              "ticks": ""
             }
            },
            "type": "scatterternary"
           }
          ],
          "surface": [
           {
            "colorbar": {
             "outlinewidth": 0,
             "ticks": ""
            },
            "colorscale": [
             [
              0,
              "#0d0887"
             ],
             [
              0.1111111111111111,
              "#46039f"
             ],
             [
              0.2222222222222222,
              "#7201a8"
             ],
             [
              0.3333333333333333,
              "#9c179e"
             ],
             [
              0.4444444444444444,
              "#bd3786"
             ],
             [
              0.5555555555555556,
              "#d8576b"
             ],
             [
              0.6666666666666666,
              "#ed7953"
             ],
             [
              0.7777777777777778,
              "#fb9f3a"
             ],
             [
              0.8888888888888888,
              "#fdca26"
             ],
             [
              1,
              "#f0f921"
             ]
            ],
            "type": "surface"
           }
          ],
          "table": [
           {
            "cells": {
             "fill": {
              "color": "#EBF0F8"
             },
             "line": {
              "color": "white"
             }
            },
            "header": {
             "fill": {
              "color": "#C8D4E3"
             },
             "line": {
              "color": "white"
             }
            },
            "type": "table"
           }
          ]
         },
         "layout": {
          "annotationdefaults": {
           "arrowcolor": "#2a3f5f",
           "arrowhead": 0,
           "arrowwidth": 1
          },
          "autotypenumbers": "strict",
          "coloraxis": {
           "colorbar": {
            "outlinewidth": 0,
            "ticks": ""
           }
          },
          "colorscale": {
           "diverging": [
            [
             0,
             "#8e0152"
            ],
            [
             0.1,
             "#c51b7d"
            ],
            [
             0.2,
             "#de77ae"
            ],
            [
             0.3,
             "#f1b6da"
            ],
            [
             0.4,
             "#fde0ef"
            ],
            [
             0.5,
             "#f7f7f7"
            ],
            [
             0.6,
             "#e6f5d0"
            ],
            [
             0.7,
             "#b8e186"
            ],
            [
             0.8,
             "#7fbc41"
            ],
            [
             0.9,
             "#4d9221"
            ],
            [
             1,
             "#276419"
            ]
           ],
           "sequential": [
            [
             0,
             "#0d0887"
            ],
            [
             0.1111111111111111,
             "#46039f"
            ],
            [
             0.2222222222222222,
             "#7201a8"
            ],
            [
             0.3333333333333333,
             "#9c179e"
            ],
            [
             0.4444444444444444,
             "#bd3786"
            ],
            [
             0.5555555555555556,
             "#d8576b"
            ],
            [
             0.6666666666666666,
             "#ed7953"
            ],
            [
             0.7777777777777778,
             "#fb9f3a"
            ],
            [
             0.8888888888888888,
             "#fdca26"
            ],
            [
             1,
             "#f0f921"
            ]
           ],
           "sequentialminus": [
            [
             0,
             "#0d0887"
            ],
            [
             0.1111111111111111,
             "#46039f"
            ],
            [
             0.2222222222222222,
             "#7201a8"
            ],
            [
             0.3333333333333333,
             "#9c179e"
            ],
            [
             0.4444444444444444,
             "#bd3786"
            ],
            [
             0.5555555555555556,
             "#d8576b"
            ],
            [
             0.6666666666666666,
             "#ed7953"
            ],
            [
             0.7777777777777778,
             "#fb9f3a"
            ],
            [
             0.8888888888888888,
             "#fdca26"
            ],
            [
             1,
             "#f0f921"
            ]
           ]
          },
          "colorway": [
           "#636efa",
           "#EF553B",
           "#00cc96",
           "#ab63fa",
           "#FFA15A",
           "#19d3f3",
           "#FF6692",
           "#B6E880",
           "#FF97FF",
           "#FECB52"
          ],
          "font": {
           "color": "#2a3f5f"
          },
          "geo": {
           "bgcolor": "white",
           "lakecolor": "white",
           "landcolor": "#E5ECF6",
           "showlakes": true,
           "showland": true,
           "subunitcolor": "white"
          },
          "hoverlabel": {
           "align": "left"
          },
          "hovermode": "closest",
          "mapbox": {
           "style": "light"
          },
          "paper_bgcolor": "white",
          "plot_bgcolor": "#E5ECF6",
          "polar": {
           "angularaxis": {
            "gridcolor": "white",
            "linecolor": "white",
            "ticks": ""
           },
           "bgcolor": "#E5ECF6",
           "radialaxis": {
            "gridcolor": "white",
            "linecolor": "white",
            "ticks": ""
           }
          },
          "scene": {
           "xaxis": {
            "backgroundcolor": "#E5ECF6",
            "gridcolor": "white",
            "gridwidth": 2,
            "linecolor": "white",
            "showbackground": true,
            "ticks": "",
            "zerolinecolor": "white"
           },
           "yaxis": {
            "backgroundcolor": "#E5ECF6",
            "gridcolor": "white",
            "gridwidth": 2,
            "linecolor": "white",
            "showbackground": true,
            "ticks": "",
            "zerolinecolor": "white"
           },
           "zaxis": {
            "backgroundcolor": "#E5ECF6",
            "gridcolor": "white",
            "gridwidth": 2,
            "linecolor": "white",
            "showbackground": true,
            "ticks": "",
            "zerolinecolor": "white"
           }
          },
          "shapedefaults": {
           "line": {
            "color": "#2a3f5f"
           }
          },
          "ternary": {
           "aaxis": {
            "gridcolor": "white",
            "linecolor": "white",
            "ticks": ""
           },
           "baxis": {
            "gridcolor": "white",
            "linecolor": "white",
            "ticks": ""
           },
           "bgcolor": "#E5ECF6",
           "caxis": {
            "gridcolor": "white",
            "linecolor": "white",
            "ticks": ""
           }
          },
          "title": {
           "x": 0.05
          },
          "xaxis": {
           "automargin": true,
           "gridcolor": "white",
           "linecolor": "white",
           "ticks": "",
           "title": {
            "standoff": 15
           },
           "zerolinecolor": "white",
           "zerolinewidth": 2
          },
          "yaxis": {
           "automargin": true,
           "gridcolor": "white",
           "linecolor": "white",
           "ticks": "",
           "title": {
            "standoff": 15
           },
           "zerolinecolor": "white",
           "zerolinewidth": 2
          }
         }
        },
        "title": {
         "font": {
          "color": "darkblue",
          "size": 20
         },
         "text": "Динаміка заощаджень",
         "x": 0.5
        },
        "xaxis": {
         "anchor": "y",
         "domain": [
          0,
          1
         ],
         "title": {
          "text": "Дата"
         }
        },
        "yaxis": {
         "anchor": "x",
         "domain": [
          0,
          1
         ],
         "title": {
          "text": "Збереження"
         }
        }
       }
      }
     },
     "metadata": {},
     "output_type": "display_data"
    }
   ],
   "source": [
    "fig = px.line(\n",
    "    currency_df,\n",
    "    x='date',\n",
    "    y='cumulative_savings',\n",
    "    color='currency',\n",
    "    title='Динаміка заощаджень',\n",
    "    labels={'cumulative_savings': 'Збереження', 'date': 'Дата', 'currency': 'Валюта'}\n",
    ")\n",
    "\n",
    "fig.update_layout(\n",
    "    title_x=0.5,\n",
    "    title_font=dict(size=20, color='darkblue'),\n",
    "    height=500\n",
    ")\n",
    "\n",
    "fig.show()"
   ]
  },
  {
   "cell_type": "code",
   "execution_count": 38,
   "metadata": {},
   "outputs": [
    {
     "data": {
      "text/html": [
       "<style type=\"text/css\">\n",
       "#T_0aacc_row0_col6 {\n",
       "  background-color: #023c5f;\n",
       "  color: #f1f1f1;\n",
       "}\n",
       "#T_0aacc_row1_col6 {\n",
       "  background-color: #023858;\n",
       "  color: #f1f1f1;\n",
       "}\n",
       "#T_0aacc_row2_col6 {\n",
       "  background-color: #fff7fb;\n",
       "  color: #000000;\n",
       "}\n",
       "</style>\n",
       "<table id=\"T_0aacc\">\n",
       "  <thead>\n",
       "    <tr>\n",
       "      <th class=\"blank level0\" >&nbsp;</th>\n",
       "      <th id=\"T_0aacc_level0_col0\" class=\"col_heading level0 col0\" >date</th>\n",
       "      <th id=\"T_0aacc_level0_col1\" class=\"col_heading level0 col1\" >currency</th>\n",
       "      <th id=\"T_0aacc_level0_col2\" class=\"col_heading level0 col2\" >saleRateNB</th>\n",
       "      <th id=\"T_0aacc_level0_col3\" class=\"col_heading level0 col3\" >purchaseRateNB</th>\n",
       "      <th id=\"T_0aacc_level0_col4\" class=\"col_heading level0 col4\" >savings</th>\n",
       "      <th id=\"T_0aacc_level0_col5\" class=\"col_heading level0 col5\" >cumulative_savings</th>\n",
       "      <th id=\"T_0aacc_level0_col6\" class=\"col_heading level0 col6\" >uah_savings</th>\n",
       "    </tr>\n",
       "  </thead>\n",
       "  <tbody>\n",
       "    <tr>\n",
       "      <th id=\"T_0aacc_level0_row0\" class=\"row_heading level0 row0\" >1071</th>\n",
       "      <td id=\"T_0aacc_row0_col0\" class=\"data row0 col0\" >2025-07-23</td>\n",
       "      <td id=\"T_0aacc_row0_col1\" class=\"data row0 col1\" >EUR</td>\n",
       "      <td id=\"T_0aacc_row0_col2\" class=\"data row0 col2\" >48.865400</td>\n",
       "      <td id=\"T_0aacc_row0_col3\" class=\"data row0 col3\" >48.865400</td>\n",
       "      <td id=\"T_0aacc_row0_col4\" class=\"data row0 col4\" >40.928755</td>\n",
       "      <td id=\"T_0aacc_row0_col5\" class=\"data row0 col5\" >15796.394110</td>\n",
       "      <td id=\"T_0aacc_row0_col6\" class=\"data row0 col6\" >771897.116725</td>\n",
       "    </tr>\n",
       "    <tr>\n",
       "      <th id=\"T_0aacc_level0_row1\" class=\"row_heading level0 row1\" >1072</th>\n",
       "      <td id=\"T_0aacc_row1_col0\" class=\"data row1 col0\" >2025-07-23</td>\n",
       "      <td id=\"T_0aacc_row1_col1\" class=\"data row1 col1\" >PLN</td>\n",
       "      <td id=\"T_0aacc_row1_col2\" class=\"data row1 col2\" >11.479700</td>\n",
       "      <td id=\"T_0aacc_row1_col3\" class=\"data row1 col3\" >11.479700</td>\n",
       "      <td id=\"T_0aacc_row1_col4\" class=\"data row1 col4\" >174.220581</td>\n",
       "      <td id=\"T_0aacc_row1_col5\" class=\"data row1 col5\" >67316.973156</td>\n",
       "      <td id=\"T_0aacc_row1_col6\" class=\"data row1 col6\" >772778.656743</td>\n",
       "    </tr>\n",
       "    <tr>\n",
       "      <th id=\"T_0aacc_level0_row2\" class=\"row_heading level0 row2\" >1073</th>\n",
       "      <td id=\"T_0aacc_row2_col0\" class=\"data row2 col0\" >2025-07-23</td>\n",
       "      <td id=\"T_0aacc_row2_col1\" class=\"data row2 col1\" >USD</td>\n",
       "      <td id=\"T_0aacc_row2_col2\" class=\"data row2 col2\" >41.765300</td>\n",
       "      <td id=\"T_0aacc_row2_col3\" class=\"data row2 col3\" >41.765300</td>\n",
       "      <td id=\"T_0aacc_row2_col4\" class=\"data row2 col4\" >47.886643</td>\n",
       "      <td id=\"T_0aacc_row2_col5\" class=\"data row2 col5\" >17244.868631</td>\n",
       "      <td id=\"T_0aacc_row2_col6\" class=\"data row2 col6\" >720237.111828</td>\n",
       "    </tr>\n",
       "  </tbody>\n",
       "</table>\n"
      ],
      "text/plain": [
       "<pandas.io.formats.style.Styler at 0x1a6d8093b30>"
      ]
     },
     "execution_count": 38,
     "metadata": {},
     "output_type": "execute_result"
    }
   ],
   "source": [
    "last_day_savings = currency_df[currency_df['date'] == end_date_to_date.date()].copy() \n",
    "\n",
    "last_day_savings.loc[:, 'uah_savings'] = last_day_savings['cumulative_savings'] * last_day_savings['saleRateNB']\n",
    "last_day_savings.style.background_gradient(axis=0, subset=['uah_savings'])"
   ]
  },
  {
   "cell_type": "markdown",
   "metadata": {},
   "source": [
    "Найбільшу суму у гривнях можна відкласти з польського злотого (PLN) - 772 778 грн."
   ]
  },
  {
   "cell_type": "code",
   "execution_count": 39,
   "metadata": {},
   "outputs": [
    {
     "data": {
      "text/html": [
       "<div>\n",
       "<style scoped>\n",
       "    .dataframe tbody tr th:only-of-type {\n",
       "        vertical-align: middle;\n",
       "    }\n",
       "\n",
       "    .dataframe tbody tr th {\n",
       "        vertical-align: top;\n",
       "    }\n",
       "\n",
       "    .dataframe thead th {\n",
       "        text-align: right;\n",
       "    }\n",
       "</style>\n",
       "<table border=\"1\" class=\"dataframe\">\n",
       "  <thead>\n",
       "    <tr style=\"text-align: right;\">\n",
       "      <th></th>\n",
       "      <th>date</th>\n",
       "      <th>currency</th>\n",
       "      <th>saleRateNB</th>\n",
       "      <th>purchaseRateNB</th>\n",
       "      <th>savings</th>\n",
       "      <th>cumulative_savings</th>\n",
       "      <th>uah_savings</th>\n",
       "      <th>percent_diff</th>\n",
       "    </tr>\n",
       "  </thead>\n",
       "  <tbody>\n",
       "    <tr>\n",
       "      <th>1071</th>\n",
       "      <td>2025-07-23</td>\n",
       "      <td>EUR</td>\n",
       "      <td>48.8654</td>\n",
       "      <td>48.8654</td>\n",
       "      <td>40.928755</td>\n",
       "      <td>15796.394110</td>\n",
       "      <td>771897.116725</td>\n",
       "      <td>0.001142</td>\n",
       "    </tr>\n",
       "    <tr>\n",
       "      <th>1072</th>\n",
       "      <td>2025-07-23</td>\n",
       "      <td>PLN</td>\n",
       "      <td>11.4797</td>\n",
       "      <td>11.4797</td>\n",
       "      <td>174.220581</td>\n",
       "      <td>67316.973156</td>\n",
       "      <td>772778.656743</td>\n",
       "      <td>0.000000</td>\n",
       "    </tr>\n",
       "    <tr>\n",
       "      <th>1073</th>\n",
       "      <td>2025-07-23</td>\n",
       "      <td>USD</td>\n",
       "      <td>41.7653</td>\n",
       "      <td>41.7653</td>\n",
       "      <td>47.886643</td>\n",
       "      <td>17244.868631</td>\n",
       "      <td>720237.111828</td>\n",
       "      <td>0.072950</td>\n",
       "    </tr>\n",
       "  </tbody>\n",
       "</table>\n",
       "</div>"
      ],
      "text/plain": [
       "            date currency  saleRateNB  purchaseRateNB     savings  \\\n",
       "1071  2025-07-23      EUR     48.8654         48.8654   40.928755   \n",
       "1072  2025-07-23      PLN     11.4797         11.4797  174.220581   \n",
       "1073  2025-07-23      USD     41.7653         41.7653   47.886643   \n",
       "\n",
       "      cumulative_savings    uah_savings  percent_diff  \n",
       "1071        15796.394110  771897.116725      0.001142  \n",
       "1072        67316.973156  772778.656743      0.000000  \n",
       "1073        17244.868631  720237.111828      0.072950  "
      ]
     },
     "execution_count": 39,
     "metadata": {},
     "output_type": "execute_result"
    }
   ],
   "source": [
    "max_uah_savings = last_day_savings['uah_savings'].max() \n",
    "\n",
    "last_day_savings['percent_diff'] = ((max_uah_savings - last_day_savings['uah_savings']) / last_day_savings['uah_savings'])\n",
    "last_day_savings"
   ]
  },
  {
   "cell_type": "markdown",
   "metadata": {},
   "source": [
    "Відсоткової різниці між польським злотим (PLN) та евро (EUR) майже не помітно - 0,11%, що у грошовому еквіваленті становить близько 881 грн.\n",
    "\n",
    "При цьому різниця між злотим (PLN) та доларем (USD) є більш відчутною - 7,29%. Грошовий еквівалент такої різниці досягає 52 541 грн."
   ]
  },
  {
   "cell_type": "code",
   "execution_count": 40,
   "metadata": {},
   "outputs": [],
   "source": [
    "currency_df.to_excel('exchange_rates_usd_eur_pln.xlsx') "
   ]
  }
 ],
 "metadata": {
  "kernelspec": {
   "display_name": "python3_12_8",
   "language": "python",
   "name": "python3"
  },
  "language_info": {
   "codemirror_mode": {
    "name": "ipython",
    "version": 3
   },
   "file_extension": ".py",
   "mimetype": "text/x-python",
   "name": "python",
   "nbconvert_exporter": "python",
   "pygments_lexer": "ipython3",
   "version": "3.12.8"
  }
 },
 "nbformat": 4,
 "nbformat_minor": 2
}
